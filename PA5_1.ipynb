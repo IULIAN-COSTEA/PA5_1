{
 "cells": [
  {
   "cell_type": "markdown",
   "metadata": {
    "editable": true,
    "id": "CcUT6Fon_qRE",
    "slideshow": {
     "slide_type": ""
    },
    "tags": []
   },
   "source": [
    "### Required Assignment 5.1: Will the Customer Accept the Coupon?\n",
    "\n",
    "**Context**\n",
    "\n",
    "Imagine driving through town and a coupon is delivered to your cell phone for a restaurant near where you are driving. Would you accept that coupon and take a short detour to the restaurant? Would you accept the coupon but use it on a subsequent trip? Would you ignore the coupon entirely? What if the coupon was for a bar instead of a restaurant? What about a coffee house? Would you accept a bar coupon with a minor passenger in the car? What about if it was just you and your partner in the car? Would weather impact the rate of acceptance? What about the time of day?\n",
    "\n",
    "Obviously, proximity to the business is a factor on whether the coupon is delivered to the driver or not, but what are the factors that determine whether a driver accepts the coupon once it is delivered to them? How would you determine whether a driver is likely to accept a coupon?\n",
    "\n",
    "**Overview**\n",
    "\n",
    "The goal of this project is to use what you know about visualizations and probability distributions to distinguish between customers who accepted a driving coupon versus those that did not.\n",
    "\n",
    "**Data**\n",
    "\n",
    "This data comes to us from the UCI Machine Learning repository and was collected via a survey on Amazon Mechanical Turk. The survey describes different driving scenarios including the destination, current time, weather, passenger, etc., and then ask the person whether he will accept the coupon if he is the driver. Answers that the user will drive there ‘right away’ or ‘later before the coupon expires’ are labeled as ‘Y = 1’ and answers ‘no, I do not want the coupon’ are labeled as ‘Y = 0’.  There are five different types of coupons -- less expensive restaurants (under \\$20), coffee houses, carry out & take away, bar, and more expensive restaurants (\\$20 - $50)."
   ]
  },
  {
   "cell_type": "markdown",
   "metadata": {
    "editable": true,
    "id": "1wORvMBJ_qRF",
    "slideshow": {
     "slide_type": ""
    },
    "tags": []
   },
   "source": [
    "**Deliverables**\n",
    "\n",
    "Your final product should be a brief report that highlights the differences between customers who did and did not accept the coupons.  To explore the data you will utilize your knowledge of plotting, statistical summaries, and visualization using Python. You will publish your findings in a public facing github repository as your first portfolio piece.\n",
    "\n",
    "\n",
    "\n"
   ]
  },
  {
   "cell_type": "markdown",
   "metadata": {
    "editable": true,
    "id": "pG6_Ym6q_qRG",
    "slideshow": {
     "slide_type": ""
    },
    "tags": []
   },
   "source": [
    "### Data Description\n",
    "Keep in mind that these values mentioned below are average values.\n",
    "\n",
    "The attributes of this data set include:\n",
    "1. User attributes\n",
    "    -  Gender: male, female\n",
    "    -  Age: below 21, 21 to 25, 26 to 30, etc.\n",
    "    -  Marital Status: single, married partner, unmarried partner, or widowed\n",
    "    -  Number of children: 0, 1, or more than 1\n",
    "    -  Education: high school, bachelors degree, associates degree, or graduate degree\n",
    "    -  Occupation: architecture & engineering, business & financial, etc.\n",
    "    -  Annual income: less than \\\\$12500, \\\\$12500 - \\\\$24999, \\\\$25000 - \\\\$37499, etc.\n",
    "    -  Number of times that he/she goes to a bar: 0, less than 1, 1 to 3, 4 to 8 or greater than 8\n",
    "    -  Number of times that he/she buys takeaway food: 0, less than 1, 1 to 3, 4 to 8 or greater\n",
    "    than 8\n",
    "    -  Number of times that he/she goes to a coffee house: 0, less than 1, 1 to 3, 4 to 8 or\n",
    "    greater than 8\n",
    "    -  Number of times that he/she eats at a restaurant with average expense less than \\\\$20 per\n",
    "    person: 0, less than 1, 1 to 3, 4 to 8 or greater than 8\n",
    "    -  Number of times that he/she goes to a bar: 0, less than 1, 1 to 3, 4 to 8 or greater than 8\n",
    "    \n",
    "\n",
    "2. Contextual attributes\n",
    "    - Driving destination: home, work, or no urgent destination\n",
    "    - Location of user, coupon and destination: we provide a map to show the geographical\n",
    "    location of the user, destination, and the venue, and we mark the distance between each\n",
    "    two places with time of driving. The user can see whether the venue is in the same\n",
    "    direction as the destination.\n",
    "    - Weather: sunny, rainy, or snowy\n",
    "    - Temperature: 30F, 55F, or 80F\n",
    "    - Time: 10AM, 2PM, or 6PM\n",
    "    - Passenger: alone, partner, kid(s), or friend(s)\n",
    "\n",
    "\n",
    "3. Coupon attributes\n",
    "    - time before it expires: 2 hours or one day"
   ]
  },
  {
   "cell_type": "code",
   "execution_count": 4,
   "metadata": {
    "editable": true,
    "id": "dzNoP3o__qRG",
    "slideshow": {
     "slide_type": ""
    },
    "tags": []
   },
   "outputs": [],
   "source": [
    "import matplotlib.pyplot as plt\n",
    "import seaborn as sns\n",
    "import pandas as pd\n",
    "import numpy as np"
   ]
  },
  {
   "cell_type": "markdown",
   "metadata": {
    "editable": true,
    "id": "Ct8pI1uE_qRG",
    "slideshow": {
     "slide_type": ""
    },
    "tags": []
   },
   "source": [
    "### Problems\n",
    "\n",
    "Use the prompts below to get started with your data analysis.  \n",
    "\n",
    "#### 1. Read in the `coupons.csv` file.\n",
    "\n",
    "\n"
   ]
  },
  {
   "cell_type": "code",
   "execution_count": 6,
   "metadata": {
    "editable": true,
    "id": "X0vbffYg_qRH",
    "slideshow": {
     "slide_type": ""
    },
    "tags": []
   },
   "outputs": [],
   "source": [
    "data = pd.read_csv('data/coupons.csv')\n",
    "pd.set_option('future.no_silent_downcasting', True)"
   ]
  },
  {
   "cell_type": "code",
   "execution_count": 7,
   "metadata": {
    "id": "TXofQ_DF_qRH",
    "outputId": "2fc96a2c-1112-4b54-f24f-dbb9bc88abfb"
   },
   "outputs": [
    {
     "name": "stdout",
     "output_type": "stream",
     "text": [
      "Check top 5 rows in the dataset:\n"
     ]
    },
    {
     "data": {
      "text/html": [
       "<div>\n",
       "<style scoped>\n",
       "    .dataframe tbody tr th:only-of-type {\n",
       "        vertical-align: middle;\n",
       "    }\n",
       "\n",
       "    .dataframe tbody tr th {\n",
       "        vertical-align: top;\n",
       "    }\n",
       "\n",
       "    .dataframe thead th {\n",
       "        text-align: right;\n",
       "    }\n",
       "</style>\n",
       "<table border=\"1\" class=\"dataframe\">\n",
       "  <thead>\n",
       "    <tr style=\"text-align: right;\">\n",
       "      <th></th>\n",
       "      <th>destination</th>\n",
       "      <th>passanger</th>\n",
       "      <th>weather</th>\n",
       "      <th>temperature</th>\n",
       "      <th>time</th>\n",
       "      <th>coupon</th>\n",
       "      <th>expiration</th>\n",
       "      <th>gender</th>\n",
       "      <th>age</th>\n",
       "      <th>maritalStatus</th>\n",
       "      <th>...</th>\n",
       "      <th>CoffeeHouse</th>\n",
       "      <th>CarryAway</th>\n",
       "      <th>RestaurantLessThan20</th>\n",
       "      <th>Restaurant20To50</th>\n",
       "      <th>toCoupon_GEQ5min</th>\n",
       "      <th>toCoupon_GEQ15min</th>\n",
       "      <th>toCoupon_GEQ25min</th>\n",
       "      <th>direction_same</th>\n",
       "      <th>direction_opp</th>\n",
       "      <th>Y</th>\n",
       "    </tr>\n",
       "  </thead>\n",
       "  <tbody>\n",
       "    <tr>\n",
       "      <th>0</th>\n",
       "      <td>No Urgent Place</td>\n",
       "      <td>Alone</td>\n",
       "      <td>Sunny</td>\n",
       "      <td>55</td>\n",
       "      <td>2PM</td>\n",
       "      <td>Restaurant(&lt;20)</td>\n",
       "      <td>1d</td>\n",
       "      <td>Female</td>\n",
       "      <td>21</td>\n",
       "      <td>Unmarried partner</td>\n",
       "      <td>...</td>\n",
       "      <td>never</td>\n",
       "      <td>NaN</td>\n",
       "      <td>4~8</td>\n",
       "      <td>1~3</td>\n",
       "      <td>1</td>\n",
       "      <td>0</td>\n",
       "      <td>0</td>\n",
       "      <td>0</td>\n",
       "      <td>1</td>\n",
       "      <td>1</td>\n",
       "    </tr>\n",
       "    <tr>\n",
       "      <th>1</th>\n",
       "      <td>No Urgent Place</td>\n",
       "      <td>Friend(s)</td>\n",
       "      <td>Sunny</td>\n",
       "      <td>80</td>\n",
       "      <td>10AM</td>\n",
       "      <td>Coffee House</td>\n",
       "      <td>2h</td>\n",
       "      <td>Female</td>\n",
       "      <td>21</td>\n",
       "      <td>Unmarried partner</td>\n",
       "      <td>...</td>\n",
       "      <td>never</td>\n",
       "      <td>NaN</td>\n",
       "      <td>4~8</td>\n",
       "      <td>1~3</td>\n",
       "      <td>1</td>\n",
       "      <td>0</td>\n",
       "      <td>0</td>\n",
       "      <td>0</td>\n",
       "      <td>1</td>\n",
       "      <td>0</td>\n",
       "    </tr>\n",
       "    <tr>\n",
       "      <th>2</th>\n",
       "      <td>No Urgent Place</td>\n",
       "      <td>Friend(s)</td>\n",
       "      <td>Sunny</td>\n",
       "      <td>80</td>\n",
       "      <td>10AM</td>\n",
       "      <td>Carry out &amp; Take away</td>\n",
       "      <td>2h</td>\n",
       "      <td>Female</td>\n",
       "      <td>21</td>\n",
       "      <td>Unmarried partner</td>\n",
       "      <td>...</td>\n",
       "      <td>never</td>\n",
       "      <td>NaN</td>\n",
       "      <td>4~8</td>\n",
       "      <td>1~3</td>\n",
       "      <td>1</td>\n",
       "      <td>1</td>\n",
       "      <td>0</td>\n",
       "      <td>0</td>\n",
       "      <td>1</td>\n",
       "      <td>1</td>\n",
       "    </tr>\n",
       "    <tr>\n",
       "      <th>3</th>\n",
       "      <td>No Urgent Place</td>\n",
       "      <td>Friend(s)</td>\n",
       "      <td>Sunny</td>\n",
       "      <td>80</td>\n",
       "      <td>2PM</td>\n",
       "      <td>Coffee House</td>\n",
       "      <td>2h</td>\n",
       "      <td>Female</td>\n",
       "      <td>21</td>\n",
       "      <td>Unmarried partner</td>\n",
       "      <td>...</td>\n",
       "      <td>never</td>\n",
       "      <td>NaN</td>\n",
       "      <td>4~8</td>\n",
       "      <td>1~3</td>\n",
       "      <td>1</td>\n",
       "      <td>1</td>\n",
       "      <td>0</td>\n",
       "      <td>0</td>\n",
       "      <td>1</td>\n",
       "      <td>0</td>\n",
       "    </tr>\n",
       "    <tr>\n",
       "      <th>4</th>\n",
       "      <td>No Urgent Place</td>\n",
       "      <td>Friend(s)</td>\n",
       "      <td>Sunny</td>\n",
       "      <td>80</td>\n",
       "      <td>2PM</td>\n",
       "      <td>Coffee House</td>\n",
       "      <td>1d</td>\n",
       "      <td>Female</td>\n",
       "      <td>21</td>\n",
       "      <td>Unmarried partner</td>\n",
       "      <td>...</td>\n",
       "      <td>never</td>\n",
       "      <td>NaN</td>\n",
       "      <td>4~8</td>\n",
       "      <td>1~3</td>\n",
       "      <td>1</td>\n",
       "      <td>1</td>\n",
       "      <td>0</td>\n",
       "      <td>0</td>\n",
       "      <td>1</td>\n",
       "      <td>0</td>\n",
       "    </tr>\n",
       "  </tbody>\n",
       "</table>\n",
       "<p>5 rows × 26 columns</p>\n",
       "</div>"
      ],
      "text/plain": [
       "       destination  passanger weather  temperature  time  \\\n",
       "0  No Urgent Place      Alone   Sunny           55   2PM   \n",
       "1  No Urgent Place  Friend(s)   Sunny           80  10AM   \n",
       "2  No Urgent Place  Friend(s)   Sunny           80  10AM   \n",
       "3  No Urgent Place  Friend(s)   Sunny           80   2PM   \n",
       "4  No Urgent Place  Friend(s)   Sunny           80   2PM   \n",
       "\n",
       "                  coupon expiration  gender age      maritalStatus  ...  \\\n",
       "0        Restaurant(<20)         1d  Female  21  Unmarried partner  ...   \n",
       "1           Coffee House         2h  Female  21  Unmarried partner  ...   \n",
       "2  Carry out & Take away         2h  Female  21  Unmarried partner  ...   \n",
       "3           Coffee House         2h  Female  21  Unmarried partner  ...   \n",
       "4           Coffee House         1d  Female  21  Unmarried partner  ...   \n",
       "\n",
       "   CoffeeHouse CarryAway RestaurantLessThan20 Restaurant20To50  \\\n",
       "0        never       NaN                  4~8              1~3   \n",
       "1        never       NaN                  4~8              1~3   \n",
       "2        never       NaN                  4~8              1~3   \n",
       "3        never       NaN                  4~8              1~3   \n",
       "4        never       NaN                  4~8              1~3   \n",
       "\n",
       "  toCoupon_GEQ5min toCoupon_GEQ15min toCoupon_GEQ25min direction_same  \\\n",
       "0                1                 0                 0              0   \n",
       "1                1                 0                 0              0   \n",
       "2                1                 1                 0              0   \n",
       "3                1                 1                 0              0   \n",
       "4                1                 1                 0              0   \n",
       "\n",
       "  direction_opp  Y  \n",
       "0             1  1  \n",
       "1             1  0  \n",
       "2             1  1  \n",
       "3             1  0  \n",
       "4             1  0  \n",
       "\n",
       "[5 rows x 26 columns]"
      ]
     },
     "execution_count": 7,
     "metadata": {},
     "output_type": "execute_result"
    }
   ],
   "source": [
    "print(\"Check top 5 rows in the dataset:\")\n",
    "data.head()"
   ]
  },
  {
   "cell_type": "markdown",
   "metadata": {
    "editable": true,
    "id": "GcDs78ZH_qRH",
    "slideshow": {
     "slide_type": ""
    },
    "tags": []
   },
   "source": [
    "#### 2. Investigate the dataset for missing or problematic data."
   ]
  },
  {
   "cell_type": "code",
   "execution_count": 9,
   "metadata": {
    "editable": true,
    "slideshow": {
     "slide_type": ""
    },
    "tags": []
   },
   "outputs": [
    {
     "name": "stdout",
     "output_type": "stream",
     "text": [
      "------------------------------------------------------------------------------------------------------\n",
      "List of columns and object type in the dataset:\n",
      "<class 'pandas.core.frame.DataFrame'>\n",
      "RangeIndex: 12684 entries, 0 to 12683\n",
      "Data columns (total 26 columns):\n",
      " #   Column                Non-Null Count  Dtype \n",
      "---  ------                --------------  ----- \n",
      " 0   destination           12684 non-null  object\n",
      " 1   passanger             12684 non-null  object\n",
      " 2   weather               12684 non-null  object\n",
      " 3   temperature           12684 non-null  int64 \n",
      " 4   time                  12684 non-null  object\n",
      " 5   coupon                12684 non-null  object\n",
      " 6   expiration            12684 non-null  object\n",
      " 7   gender                12684 non-null  object\n",
      " 8   age                   12684 non-null  object\n",
      " 9   maritalStatus         12684 non-null  object\n",
      " 10  has_children          12684 non-null  int64 \n",
      " 11  education             12684 non-null  object\n",
      " 12  occupation            12684 non-null  object\n",
      " 13  income                12684 non-null  object\n",
      " 14  car                   108 non-null    object\n",
      " 15  Bar                   12577 non-null  object\n",
      " 16  CoffeeHouse           12467 non-null  object\n",
      " 17  CarryAway             12533 non-null  object\n",
      " 18  RestaurantLessThan20  12554 non-null  object\n",
      " 19  Restaurant20To50      12495 non-null  object\n",
      " 20  toCoupon_GEQ5min      12684 non-null  int64 \n",
      " 21  toCoupon_GEQ15min     12684 non-null  int64 \n",
      " 22  toCoupon_GEQ25min     12684 non-null  int64 \n",
      " 23  direction_same        12684 non-null  int64 \n",
      " 24  direction_opp         12684 non-null  int64 \n",
      " 25  Y                     12684 non-null  int64 \n",
      "dtypes: int64(8), object(18)\n",
      "memory usage: 2.5+ MB\n",
      "------------------------------------------------------------------------------------------------------\n"
     ]
    }
   ],
   "source": [
    "#Check for numerical and categorical data\n",
    "print(\"------------------------------------------------------------------------------------------------------\")\n",
    "print(\"List of columns and object type in the dataset:\")\n",
    "data.info()\n",
    "print(\"------------------------------------------------------------------------------------------------------\")"
   ]
  },
  {
   "cell_type": "code",
   "execution_count": 10,
   "metadata": {},
   "outputs": [
    {
     "name": "stdout",
     "output_type": "stream",
     "text": [
      "------------------------------------------------------------------------------------------------------\n",
      "Detected non-numerical values in nummerical category\n",
      "['21' '46' '26' '31' '41' '50plus' '36' 'below21']\n",
      "------------------------------------------------------------------------------------------------------\n",
      "Replacing non-numerical values with numerical values\n",
      "[21 46 26 31 41 60 36 20]\n",
      "------------------------------------------------------------------------------------------------------\n"
     ]
    }
   ],
   "source": [
    "#Change data type for categorical fieds that should be numerical\n",
    "print(\"------------------------------------------------------------------------------------------------------\")\n",
    "print(\"Detected non-numerical values in nummerical category\")\n",
    "print(data['age'].unique())\n",
    "print(\"------------------------------------------------------------------------------------------------------\")\n",
    "print(\"Replacing non-numerical values with numerical values\")\n",
    "data['age'] = data['age'].replace({\n",
    "    'below21': 20,\n",
    "    '50plus': 60,\n",
    "})\n",
    "data['age'] = data['age'].astype(int)\n",
    "print(data['age'].unique())\n",
    "print(\"------------------------------------------------------------------------------------------------------\")"
   ]
  },
  {
   "cell_type": "code",
   "execution_count": 11,
   "metadata": {},
   "outputs": [
    {
     "name": "stdout",
     "output_type": "stream",
     "text": [
      "------------------------------------------------------------------------------------------------------\n",
      "Number of rows and columns in the dataset:\n",
      "(12684, 26)\n",
      "------------------------------------------------------------------------------------------------------\n"
     ]
    }
   ],
   "source": [
    "print(\"------------------------------------------------------------------------------------------------------\")\n",
    "print(\"Number of rows and columns in the dataset:\")\n",
    "print(data.shape)\n",
    "print(\"------------------------------------------------------------------------------------------------------\")"
   ]
  },
  {
   "cell_type": "code",
   "execution_count": 12,
   "metadata": {},
   "outputs": [
    {
     "name": "stdout",
     "output_type": "stream",
     "text": [
      "------------------------------------------------------------------------------------------------------\n",
      "Number of missing values per category in the dataset:\n",
      "------------------------------------------------------------------------------------------------------\n",
      "                      Missing_Values %_Missing_Values\n",
      "car                            12576           99.15%\n",
      "Bar                              107            0.84%\n",
      "CoffeeHouse                      217            1.71%\n",
      "CarryAway                        151            1.19%\n",
      "RestaurantLessThan20             130            1.02%\n",
      "Restaurant20To50                 189            1.49%\n",
      "------------------------------------------------------------------------------------------------------\n",
      "'car' category is not usable since over 99% or data is missing, therefore is a serios candidate to drop\n",
      "------------------------------------------------------------------------------------------------------\n"
     ]
    }
   ],
   "source": [
    "#Checking for missing data and apply some data processing(to use some more pandas functions) for a nicer formating and better overall readability of data \n",
    "print(\"------------------------------------------------------------------------------------------------------\")\n",
    "print(\"Number of missing values per category in the dataset:\")\n",
    "print(\"------------------------------------------------------------------------------------------------------\")\n",
    "missing_data_num = data.isna().sum()\n",
    "missing_data_per = (data.isna().mean()*100).round(2).astype(str) + '%'\n",
    "missing_data = pd.concat([missing_data_num, missing_data_per], axis = 1, ignore_index=True)\n",
    "columns = missing_data.columns.tolist()\n",
    "columns[0] = 'Missing_Values'\n",
    "columns[1] = '%_Missing_Values'\n",
    "missing_data.columns = columns\n",
    "missing_data = missing_data[missing_data['Missing_Values'] != 0]\n",
    "print (missing_data)\n",
    "print(\"------------------------------------------------------------------------------------------------------\")\n",
    "print(\"'car' category is not usable since over 99% or data is missing, therefore is a serios candidate to drop\")\n",
    "print(\"------------------------------------------------------------------------------------------------------\")"
   ]
  },
  {
   "cell_type": "code",
   "execution_count": 13,
   "metadata": {
    "editable": true,
    "slideshow": {
     "slide_type": ""
    },
    "tags": []
   },
   "outputs": [
    {
     "name": "stdout",
     "output_type": "stream",
     "text": [
      "------------------------------------------------------------------------------------------------------\n",
      "Nature of unique values for the category that has the most missing values:\n",
      "------------------------------------------------------------------------------------------------------\n",
      "car                                     \n",
      "Mazda5                                      22\n",
      "Scooter and motorcycle                      22\n",
      "do not drive                                22\n",
      "Car that is too old to install Onstar :D    21\n",
      "crossover                                   21\n",
      "Name: count, dtype: int64\n",
      "------------------------------------------------------------------------------------------------------\n",
      "Based on the nature of the values I conclude that 'car' category is not relevant for the analysis and can be discarded al together\n",
      "------------------------------------------------------------------------------------------------------\n"
     ]
    }
   ],
   "source": [
    "#Checking if the nature of the values for the most incomplete category \"car\" have any relevance and decide the best next action\n",
    "print(\"------------------------------------------------------------------------------------------------------\")\n",
    "print(\"Nature of unique values for the category that has the most missing values:\")\n",
    "print(\"------------------------------------------------------------------------------------------------------\")\n",
    "print(data[['car']].value_counts())\n",
    "print(\"------------------------------------------------------------------------------------------------------\")\n",
    "print(\"Based on the nature of the values I conclude that 'car' category is not relevant for the analysis and can be discarded al together\")\n",
    "print(\"------------------------------------------------------------------------------------------------------\")"
   ]
  },
  {
   "cell_type": "code",
   "execution_count": 14,
   "metadata": {},
   "outputs": [
    {
     "name": "stdout",
     "output_type": "stream",
     "text": [
      "------------------------------------------------------------------------------------------------------\n",
      "Count of values by category for the catagories that have some missing data will allow me to assess further the relevance of the information\n",
      "------------------------------------------------------------------------------------------------------\n",
      "        Bar  CoffeeHouse  CarryAway  RestaurantLessThan20  Restaurant20To50\n",
      "1~3    2473         3225       4672                  5376              3290\n",
      "4~8    1076         1784       4258                  3580               728\n",
      "gt8     349         1111       1594                  1285               264\n",
      "less1  3482         3385       1856                  2093              6077\n",
      "never  5197         2962        153                   220              2136\n",
      "------------------------------------------------------------------------------------------------------\n",
      "Since all categories have a good distribution, I conclude that is safe to remove the relatively small number of rows with null values\n",
      "------------------------------------------------------------------------------------------------------\n"
     ]
    }
   ],
   "source": [
    "#Checking the nature of the other categories with missing data and decide the next best action\n",
    "print(\"------------------------------------------------------------------------------------------------------\")\n",
    "print(\"Count of values by category for the catagories that have some missing data will allow me to assess further the relevance of the information\")\n",
    "print(\"------------------------------------------------------------------------------------------------------\")\n",
    "print(data[['Bar','CoffeeHouse','CarryAway','RestaurantLessThan20','Restaurant20To50']].apply(data.value_counts))\n",
    "print(\"------------------------------------------------------------------------------------------------------\")\n",
    "print(\"Since all categories have a good distribution, I conclude that is safe to remove the relatively small number of rows with null values\")\n",
    "print(\"------------------------------------------------------------------------------------------------------\")"
   ]
  },
  {
   "cell_type": "markdown",
   "metadata": {
    "editable": true,
    "id": "bSdVSpYB_qRH",
    "slideshow": {
     "slide_type": ""
    },
    "tags": []
   },
   "source": [
    "#### 3. Decide what to do about your missing data -- drop, replace, other..."
   ]
  },
  {
   "cell_type": "code",
   "execution_count": 16,
   "metadata": {
    "editable": true,
    "id": "tyvoAC5F_qRI",
    "slideshow": {
     "slide_type": ""
    },
    "tags": []
   },
   "outputs": [
    {
     "name": "stdout",
     "output_type": "stream",
     "text": [
      "------------------------------------------------------------------------------------------------------\n",
      "Number of columns after column removal is now:\n",
      "------------------------------------------------------------------------------------------------------\n"
     ]
    }
   ],
   "source": [
    "#Cleaning up data frame - Remove \"car\" column\n",
    "data_dc = data.drop('car', axis=1)\n",
    "# Checking that one column was removed\n",
    "print(\"------------------------------------------------------------------------------------------------------\")\n",
    "print(\"Number of columns after column removal is now:\")\n",
    "data_dc.shape\n",
    "print(\"------------------------------------------------------------------------------------------------------\")"
   ]
  },
  {
   "cell_type": "code",
   "execution_count": 17,
   "metadata": {},
   "outputs": [
    {
     "name": "stdout",
     "output_type": "stream",
     "text": [
      "------------------------------------------------------------------------------------------------------\n",
      "Number of rows after rows removal is now:\n",
      "(12079, 25)\n",
      "------------------------------------------------------------------------------------------------------\n",
      "Total number of removed rows is:\n",
      "605\n",
      "Total number of removed rows as % of the total rows is:\n",
      "4.77%\n",
      "------------------------------------------------------------------------------------------------------\n"
     ]
    }
   ],
   "source": [
    "#Cleaning up data frame - Remove all other rows that contains null values (is a very small % (under 2% ) of the total values)\n",
    "print(\"------------------------------------------------------------------------------------------------------\")\n",
    "data_clean = data_dc.dropna().reset_index(drop=True)\n",
    "print(\"Number of rows after rows removal is now:\")\n",
    "print(data_clean.shape)\n",
    "print(\"------------------------------------------------------------------------------------------------------\")\n",
    "print(\"Total number of removed rows is:\")\n",
    "print(data.count(numeric_only = False).max() - data_clean.count(numeric_only = False).max())\n",
    "print(\"Total number of removed rows as % of the total rows is:\")\n",
    "ratio_p = round((((data.count(numeric_only = False).max() - data_clean.count(numeric_only = False).max())/data.count(numeric_only = False).max())*100), 2)\n",
    "print(str(ratio_p) + '%')\n",
    "print(\"------------------------------------------------------------------------------------------------------\")"
   ]
  },
  {
   "cell_type": "markdown",
   "metadata": {
    "editable": true,
    "id": "YE6oJbXd_qRI",
    "slideshow": {
     "slide_type": ""
    },
    "tags": []
   },
   "source": [
    "#### 4. What proportion of the total observations chose to accept the coupon?\n",
    "\n"
   ]
  },
  {
   "cell_type": "code",
   "execution_count": 19,
   "metadata": {
    "editable": true,
    "id": "86GGqBTv_qRI",
    "slideshow": {
     "slide_type": ""
    },
    "tags": []
   },
   "outputs": [
    {
     "name": "stdout",
     "output_type": "stream",
     "text": [
      "------------------------------------------------------------------------------------------------------\n",
      "Total number of persons that accepted the cupon is:\n",
      "6877 persons\n",
      "% of persons that accepted the cupon is:\n",
      "56.93%\n",
      "------------------------------------------------------------------------------------------------------\n"
     ]
    }
   ],
   "source": [
    "#Calculating the total number of persons that accepted the coupon\n",
    "print(\"------------------------------------------------------------------------------------------------------\")\n",
    "print(\"Total number of persons that accepted the cupon is:\")\n",
    "print(data_clean['Y'].sum().astype(str) + \" persons\")\n",
    "print(\"% of persons that accepted the cupon is:\")\n",
    "print(((data_clean['Y'].mean())*100).round(2).astype(str) + '%')\n",
    "print(\"------------------------------------------------------------------------------------------------------\")"
   ]
  },
  {
   "cell_type": "markdown",
   "metadata": {
    "editable": true,
    "id": "vflz0DoE_qRI",
    "slideshow": {
     "slide_type": ""
    },
    "tags": []
   },
   "source": [
    "#### 5. Use a bar plot to visualize the `coupon` column."
   ]
  },
  {
   "cell_type": "code",
   "execution_count": 21,
   "metadata": {
    "editable": true,
    "id": "dHFh3E45_qRI",
    "slideshow": {
     "slide_type": ""
    },
    "tags": []
   },
   "outputs": [
    {
     "data": {
      "image/png": "[encoded data removed]",
      "text/plain": [
       "<Figure size 640x480 with 1 Axes>"
      ]
     },
     "metadata": {},
     "output_type": "display_data"
    }
   ],
   "source": [
    "# Plotting distribution (mean) of coupons by type of coupon\n",
    "plt.title(\"Distribution (mean) of coupons by coupon type\", color = 'Red');\n",
    "sns.set_palette('pastel')\n",
    "plt.rcParams.update({\n",
    "    'figure.figsize': (10, 5),\n",
    "    'axes.titlesize': 12,\n",
    "    'axes.labelsize': 10,\n",
    "    'xtick.labelsize': 8,\n",
    "    'ytick.labelsize': 8\n",
    "});\n",
    "\n",
    "sns.barplot(data_clean, x = 'Y', y ='coupon', palette = 'pastel', hue = 'coupon');"
   ]
  },
  {
   "cell_type": "code",
   "execution_count": 22,
   "metadata": {
    "editable": true,
    "slideshow": {
     "slide_type": ""
    },
    "tags": []
   },
   "outputs": [
    {
     "data": {
      "image/png": "[encoded data removed]",
      "text/plain": [
       "<Figure size 1000x500 with 1 Axes>"
      ]
     },
     "metadata": {},
     "output_type": "display_data"
    }
   ],
   "source": [
    "#Plotting Total distribution (count) of coupons by type of coupon\n",
    "plt.title(\"Total distribution (count) of coupons by type of coupon\", color = 'Red');\n",
    "sns.set_palette('pastel')\n",
    "plt.rcParams.update({\n",
    "    'figure.figsize': (10, 5),\n",
    "    'axes.titlesize': 12,\n",
    "    'axes.labelsize': 10,\n",
    "    'xtick.labelsize': 8,\n",
    "    'ytick.labelsize': 8\n",
    "});\n",
    "sns.countplot(data_clean, y ='coupon', color='skyblue');"
   ]
  },
  {
   "cell_type": "markdown",
   "metadata": {
    "editable": true,
    "id": "Qw4lCyx2_qRI",
    "slideshow": {
     "slide_type": ""
    },
    "tags": []
   },
   "source": [
    "#### 6. Use a histogram to visualize the temperature column."
   ]
  },
  {
   "cell_type": "code",
   "execution_count": 24,
   "metadata": {
    "editable": true,
    "id": "Yg9Anv71_qRI",
    "slideshow": {
     "slide_type": ""
    },
    "tags": []
   },
   "outputs": [
    {
     "data": {
      "text/plain": [
       "<Axes: title={'center': 'Histogram for distribution of temperature'}, xlabel='temperature', ylabel='Count'>"
      ]
     },
     "execution_count": 24,
     "metadata": {},
     "output_type": "execute_result"
    },
    {
     "data": {
      "image/png": "[encoded data removed]",
      "text/plain": [
       "<Figure size 1000x500 with 1 Axes>"
      ]
     },
     "metadata": {},
     "output_type": "display_data"
    }
   ],
   "source": [
    "#Plotting temperature histogram\n",
    "plt.title(\"Histogram for distribution of temperature\", color = 'Red');\n",
    "plt.rcParams.update({\n",
    "    'figure.figsize': (10, 5),\n",
    "    'axes.titlesize': 12,\n",
    "    'axes.labelsize': 10,\n",
    "    'xtick.labelsize': 8,\n",
    "    'ytick.labelsize': 8\n",
    "});\n",
    "sns.histplot(data_clean, x =\"temperature\")"
   ]
  },
  {
   "cell_type": "markdown",
   "metadata": {
    "editable": true,
    "id": "FupfgeJk_qRJ",
    "slideshow": {
     "slide_type": ""
    },
    "tags": []
   },
   "source": [
    "**Investigating the Bar Coupons**\n",
    "\n",
    "Now, we will lead you through an exploration of just the bar related coupons.  \n",
    "\n",
    "##### 1. Create a new `DataFrame` that contains just the bar coupons.\n"
   ]
  },
  {
   "cell_type": "code",
   "execution_count": 26,
   "metadata": {
    "editable": true,
    "id": "tMBlWuGq_qRJ",
    "slideshow": {
     "slide_type": ""
    },
    "tags": []
   },
   "outputs": [
    {
     "data": {
      "text/html": [
       "<div>\n",
       "<style scoped>\n",
       "    .dataframe tbody tr th:only-of-type {\n",
       "        vertical-align: middle;\n",
       "    }\n",
       "\n",
       "    .dataframe tbody tr th {\n",
       "        vertical-align: top;\n",
       "    }\n",
       "\n",
       "    .dataframe thead th {\n",
       "        text-align: right;\n",
       "    }\n",
       "</style>\n",
       "<table border=\"1\" class=\"dataframe\">\n",
       "  <thead>\n",
       "    <tr style=\"text-align: right;\">\n",
       "      <th></th>\n",
       "      <th>destination</th>\n",
       "      <th>passanger</th>\n",
       "      <th>weather</th>\n",
       "      <th>temperature</th>\n",
       "      <th>time</th>\n",
       "      <th>coupon</th>\n",
       "      <th>expiration</th>\n",
       "      <th>gender</th>\n",
       "      <th>age</th>\n",
       "      <th>maritalStatus</th>\n",
       "      <th>...</th>\n",
       "      <th>CoffeeHouse</th>\n",
       "      <th>CarryAway</th>\n",
       "      <th>RestaurantLessThan20</th>\n",
       "      <th>Restaurant20To50</th>\n",
       "      <th>toCoupon_GEQ5min</th>\n",
       "      <th>toCoupon_GEQ15min</th>\n",
       "      <th>toCoupon_GEQ25min</th>\n",
       "      <th>direction_same</th>\n",
       "      <th>direction_opp</th>\n",
       "      <th>Y</th>\n",
       "    </tr>\n",
       "  </thead>\n",
       "  <tbody>\n",
       "    <tr>\n",
       "      <th>2</th>\n",
       "      <td>No Urgent Place</td>\n",
       "      <td>Friend(s)</td>\n",
       "      <td>Sunny</td>\n",
       "      <td>80</td>\n",
       "      <td>10AM</td>\n",
       "      <td>Bar</td>\n",
       "      <td>1d</td>\n",
       "      <td>Male</td>\n",
       "      <td>21</td>\n",
       "      <td>Single</td>\n",
       "      <td>...</td>\n",
       "      <td>less1</td>\n",
       "      <td>4~8</td>\n",
       "      <td>4~8</td>\n",
       "      <td>less1</td>\n",
       "      <td>1</td>\n",
       "      <td>0</td>\n",
       "      <td>0</td>\n",
       "      <td>0</td>\n",
       "      <td>1</td>\n",
       "      <td>1</td>\n",
       "    </tr>\n",
       "    <tr>\n",
       "      <th>13</th>\n",
       "      <td>Home</td>\n",
       "      <td>Alone</td>\n",
       "      <td>Sunny</td>\n",
       "      <td>55</td>\n",
       "      <td>6PM</td>\n",
       "      <td>Bar</td>\n",
       "      <td>1d</td>\n",
       "      <td>Male</td>\n",
       "      <td>21</td>\n",
       "      <td>Single</td>\n",
       "      <td>...</td>\n",
       "      <td>less1</td>\n",
       "      <td>4~8</td>\n",
       "      <td>4~8</td>\n",
       "      <td>less1</td>\n",
       "      <td>1</td>\n",
       "      <td>0</td>\n",
       "      <td>0</td>\n",
       "      <td>1</td>\n",
       "      <td>0</td>\n",
       "      <td>1</td>\n",
       "    </tr>\n",
       "    <tr>\n",
       "      <th>17</th>\n",
       "      <td>Work</td>\n",
       "      <td>Alone</td>\n",
       "      <td>Sunny</td>\n",
       "      <td>55</td>\n",
       "      <td>7AM</td>\n",
       "      <td>Bar</td>\n",
       "      <td>1d</td>\n",
       "      <td>Male</td>\n",
       "      <td>21</td>\n",
       "      <td>Single</td>\n",
       "      <td>...</td>\n",
       "      <td>less1</td>\n",
       "      <td>4~8</td>\n",
       "      <td>4~8</td>\n",
       "      <td>less1</td>\n",
       "      <td>1</td>\n",
       "      <td>1</td>\n",
       "      <td>1</td>\n",
       "      <td>0</td>\n",
       "      <td>1</td>\n",
       "      <td>1</td>\n",
       "    </tr>\n",
       "    <tr>\n",
       "      <th>24</th>\n",
       "      <td>No Urgent Place</td>\n",
       "      <td>Friend(s)</td>\n",
       "      <td>Sunny</td>\n",
       "      <td>80</td>\n",
       "      <td>10AM</td>\n",
       "      <td>Bar</td>\n",
       "      <td>1d</td>\n",
       "      <td>Male</td>\n",
       "      <td>46</td>\n",
       "      <td>Single</td>\n",
       "      <td>...</td>\n",
       "      <td>4~8</td>\n",
       "      <td>1~3</td>\n",
       "      <td>1~3</td>\n",
       "      <td>never</td>\n",
       "      <td>1</td>\n",
       "      <td>0</td>\n",
       "      <td>0</td>\n",
       "      <td>0</td>\n",
       "      <td>1</td>\n",
       "      <td>0</td>\n",
       "    </tr>\n",
       "    <tr>\n",
       "      <th>35</th>\n",
       "      <td>Home</td>\n",
       "      <td>Alone</td>\n",
       "      <td>Sunny</td>\n",
       "      <td>55</td>\n",
       "      <td>6PM</td>\n",
       "      <td>Bar</td>\n",
       "      <td>1d</td>\n",
       "      <td>Male</td>\n",
       "      <td>46</td>\n",
       "      <td>Single</td>\n",
       "      <td>...</td>\n",
       "      <td>4~8</td>\n",
       "      <td>1~3</td>\n",
       "      <td>1~3</td>\n",
       "      <td>never</td>\n",
       "      <td>1</td>\n",
       "      <td>0</td>\n",
       "      <td>0</td>\n",
       "      <td>1</td>\n",
       "      <td>0</td>\n",
       "      <td>0</td>\n",
       "    </tr>\n",
       "  </tbody>\n",
       "</table>\n",
       "<p>5 rows × 25 columns</p>\n",
       "</div>"
      ],
      "text/plain": [
       "        destination  passanger weather  temperature  time coupon expiration  \\\n",
       "2   No Urgent Place  Friend(s)   Sunny           80  10AM    Bar         1d   \n",
       "13             Home      Alone   Sunny           55   6PM    Bar         1d   \n",
       "17             Work      Alone   Sunny           55   7AM    Bar         1d   \n",
       "24  No Urgent Place  Friend(s)   Sunny           80  10AM    Bar         1d   \n",
       "35             Home      Alone   Sunny           55   6PM    Bar         1d   \n",
       "\n",
       "   gender  age maritalStatus  ...  CoffeeHouse CarryAway RestaurantLessThan20  \\\n",
       "2    Male   21        Single  ...        less1       4~8                  4~8   \n",
       "13   Male   21        Single  ...        less1       4~8                  4~8   \n",
       "17   Male   21        Single  ...        less1       4~8                  4~8   \n",
       "24   Male   46        Single  ...          4~8       1~3                  1~3   \n",
       "35   Male   46        Single  ...          4~8       1~3                  1~3   \n",
       "\n",
       "   Restaurant20To50 toCoupon_GEQ5min toCoupon_GEQ15min toCoupon_GEQ25min  \\\n",
       "2             less1                1                 0                 0   \n",
       "13            less1                1                 0                 0   \n",
       "17            less1                1                 1                 1   \n",
       "24            never                1                 0                 0   \n",
       "35            never                1                 0                 0   \n",
       "\n",
       "   direction_same direction_opp  Y  \n",
       "2               0             1  1  \n",
       "13              1             0  1  \n",
       "17              0             1  1  \n",
       "24              0             1  0  \n",
       "35              1             0  0  \n",
       "\n",
       "[5 rows x 25 columns]"
      ]
     },
     "execution_count": 26,
     "metadata": {},
     "output_type": "execute_result"
    }
   ],
   "source": [
    "#Creating new dataframe\n",
    "df_coupons = data_clean.query(\"coupon == 'Bar'\")\n",
    "df_coupons.head()"
   ]
  },
  {
   "cell_type": "markdown",
   "metadata": {
    "editable": true,
    "id": "8ue6uCqf_qRJ",
    "slideshow": {
     "slide_type": ""
    },
    "tags": []
   },
   "source": [
    "##### 2. What proportion of bar coupons were accepted?\n"
   ]
  },
  {
   "cell_type": "code",
   "execution_count": 130,
   "metadata": {
    "editable": true,
    "id": "hSdte8Mi_qRK",
    "slideshow": {
     "slide_type": ""
    },
    "tags": []
   },
   "outputs": [
    {
     "name": "stdout",
     "output_type": "stream",
     "text": [
      "------------------------------------------------------------------------------------------------------\n",
      "Total number of persons that accepted the coupons:\n",
      "788 persons\n",
      "Percentage persons that accepted the coupons:\n",
      "41.19%\n",
      "------------------------------------------------------------------------------------------------------\n"
     ]
    },
    {
     "data": {
      "image/png": "[encoded data removed]",
      "text/plain": [
       "<Figure size 1200x500 with 1 Axes>"
      ]
     },
     "metadata": {},
     "output_type": "display_data"
    }
   ],
   "source": [
    "#Calculating the total number of bar cupons that were accepted\n",
    "df_coupons_bar_accepted = df_coupons.query(\"Y == 1\")['Y'].sum()\n",
    "df_coupons_bar_accepted_ratio = ((df_coupons_bar_accepted / df_coupons.count()['Y'])*100)\n",
    "print(\"------------------------------------------------------------------------------------------------------\")\n",
    "print(\"Total number of persons that accepted the coupons:\")\n",
    "print(df_coupons_bar_accepted.astype(str) + ' persons')\n",
    "print(\"Percentage persons that accepted the coupons:\")\n",
    "print(df_coupons_bar_accepted_ratio.round(2).astype(str) + '%')\n",
    "print(\"------------------------------------------------------------------------------------------------------\")\n",
    "plt.title(\"Distribution of persons that accepted the coupons by number of monthly bar visits\", color = 'Red');\n",
    "sns.set_palette('pastel')\n",
    "plt.rcParams.update({\n",
    "    'figure.figsize': (10, 5),\n",
    "    'axes.titlesize': 12,\n",
    "    'axes.labelsize': 10,\n",
    "    'xtick.labelsize': 8,\n",
    "    'ytick.labelsize': 8\n",
    "});\n",
    "sns.histplot(df_coupons.query(\"Y == 1\"), x = 'Bar');"
   ]
  },
  {
   "cell_type": "markdown",
   "metadata": {
    "editable": true,
    "id": "85nA_iEi_qRK",
    "slideshow": {
     "slide_type": ""
    },
    "tags": []
   },
   "source": [
    "##### 3. Compare the acceptance rate between those who went to a bar 3 or fewer times a month to those who went more.\n"
   ]
  },
  {
   "cell_type": "code",
   "execution_count": 179,
   "metadata": {
    "editable": true,
    "id": "LBOrN-XM_qRK",
    "slideshow": {
     "slide_type": ""
    },
    "tags": []
   },
   "outputs": [
    {
     "name": "stdout",
     "output_type": "stream",
     "text": [
      "------------------------------------------------------------------------------------------------------\n",
      "Total number of drivers that visit the bars less or up to 3 times a month and accepted the coupons:\n",
      "641\n",
      "Total number of drivers that visit the bars less or up to 3 times a month and rejected the coupons:\n",
      "1079\n",
      "Percentage of drivers that visit the bars less or up to 3 times a month and accepted the coupons:\n",
      "37.27%\n",
      "------------------------------------------------------------------------------------------------------\n",
      "\n",
      "------------------------------------------------------------------------------------------------------\n",
      "Total number of drivers that visit the bars more than 3 times a month and accepted the coupons:\n",
      "147\n",
      "Total number of drivers that visit the bars more than 3 times a month and rejected the coupons:\n",
      "46\n",
      "Percentage of drivers that visit the bars more than 3 times a month and accepted the coupons:\n",
      "76.17%\n",
      "------------------------------------------------------------------------------------------------------\n"
     ]
    },
    {
     "data": {
      "image/png": "[encoded data removed]",
      "text/plain": [
       "<Figure size 1200x500 with 1 Axes>"
      ]
     },
     "metadata": {},
     "output_type": "display_data"
    }
   ],
   "source": [
    "#Calculating acceptance rate for those who went to a bar 3 or fewer times a month\n",
    "df_coupons_bar_upto_3times_a = df_coupons[(df_coupons['Bar'].isin(['1~3', 'less1', 'never']) & (df_coupons['Y'] == 1))]['Y'].count()\n",
    "df_coupons_bar_upto_3times_r = df_coupons[(df_coupons['Bar'].isin(['1~3', 'less1', 'never']) & (df_coupons['Y'] == 0))]['Y'].count()\n",
    "df_bar_3times_ratio_a = df_coupons_bar_upto_3times_a / (df_coupons_bar_upto_3times_a + df_coupons_bar_upto_3times_r)*100\n",
    "print(\"------------------------------------------------------------------------------------------------------\")\n",
    "print(\"Total number of drivers that visit the bars less or up to 3 times a month and accepted the coupons:\")\n",
    "print(df_coupons_bar_upto_3times_a)\n",
    "print(\"Total number of drivers that visit the bars less or up to 3 times a month and rejected the coupons:\")\n",
    "print(df_coupons_bar_upto_3times_r)\n",
    "print(\"Percentage of drivers that visit the bars less or up to 3 times a month and accepted the coupons:\")\n",
    "print(df_bar_3times_ratio_a.round(2).astype(str) + '%')\n",
    "print(\"------------------------------------------------------------------------------------------------------\")\n",
    "print('')\n",
    "\n",
    "#Calculating acceptance rate for those who went to a bar more than 3 times a month\n",
    "df_coupons_bar_more_3times_a = df_coupons[(df_coupons['Bar'].isin(['4~8', 'gt8']) & (df_coupons['Y'] == 1))]['Y'].count()\n",
    "df_coupons_bar_more_3times_r = df_coupons[(df_coupons['Bar'].isin(['4~8', 'gt8']) & (df_coupons['Y'] == 0))]['Y'].count()\n",
    "df_bar_more_3times_ratio_a = df_coupons_bar_more_3times_a / (df_coupons_bar_more_3times_a + df_coupons_bar_more_3times_r)*100\n",
    "print(\"------------------------------------------------------------------------------------------------------\")\n",
    "print(\"Total number of drivers that visit the bars more than 3 times a month and accepted the coupons:\")\n",
    "print(df_coupons_bar_more_3times_a)\n",
    "print(\"Total number of drivers that visit the bars more than 3 times a month and rejected the coupons:\")\n",
    "print(df_coupons_bar_more_3times_r)\n",
    "print(\"Percentage of drivers that visit the bars more than 3 times a month and accepted the coupons:\")\n",
    "print(df_bar_more_3times_ratio_a.round(2).astype(str) + '%')\n",
    "print(\"------------------------------------------------------------------------------------------------------\")\n",
    "\n",
    "plt.title(\"Distribution of drivers and their cupon acceptance by the number of monthly bar visits (1-Accepted; 0-Rejected)\", color = 'Red');\n",
    "sns.set_palette('pastel')\n",
    "plt.rcParams.update({\n",
    "    'figure.figsize': (15, 5),\n",
    "    'axes.titlesize': 12,\n",
    "    'axes.labelsize': 10,\n",
    "    'xtick.labelsize': 8,\n",
    "    'ytick.labelsize': 8\n",
    "});\n",
    "sns.histplot(data=df_coupons, x = 'Bar', hue = 'Y');"
   ]
  },
  {
   "cell_type": "markdown",
   "metadata": {
    "editable": true,
    "id": "RBgcQwH4_qRK",
    "slideshow": {
     "slide_type": ""
    },
    "tags": []
   },
   "source": [
    "##### 4. Compare the acceptance rate between drivers who go to a bar more than once a month and are over the age of 25 to the all others.  Is there a difference?\n"
   ]
  },
  {
   "cell_type": "code",
   "execution_count": 213,
   "metadata": {
    "editable": true,
    "id": "bf28bbeX_qRK",
    "slideshow": {
     "slide_type": ""
    },
    "tags": []
   },
   "outputs": [
    {
     "name": "stdout",
     "output_type": "stream",
     "text": [
      "------------------------------------------------------------------------------------------------------\n",
      "Total number of drives that are over 25 of age and visit the bars more than 1 time a month and accepted the coupons:\n",
      "278\n",
      "Total number of drivers that are over 25 of age and visit the bars more than 1 time a month and rejected the coupons:\n",
      "125\n",
      "Percentage of drivers that are over 25 of age and visit the bars more than 1 time a month and accepted the coupons:\n",
      "68.98%\n",
      "------------------------------------------------------------------------------------------------------\n",
      "\n",
      "------------------------------------------------------------------------------------------------------\n",
      "Total number of drivers that visit the bars less than 1 time a month and accepted the coupons:\n",
      "120\n",
      "Total number of drivers that visit the bars less than 1 time a month and rejected the coupons:\n",
      "189\n",
      "Percentage of drivers that visit the bars less than 1 time a month and accepted the coupons:\n",
      "38.83%\n",
      "------------------------------------------------------------------------------------------------------\n"
     ]
    },
    {
     "data": {
      "image/png": "[encoded data removed]",
      "text/plain": [
       "<Figure size 1500x500 with 2 Axes>"
      ]
     },
     "metadata": {},
     "output_type": "display_data"
    }
   ],
   "source": [
    "#Calculating acceptance rate between drivers who go to a bar more than once a month and are over the age of 25\n",
    "df_coupons_bar_more_1time_more25_a = df_coupons[(df_coupons['Bar'].isin(['1~3', '4~8', 'gt8']) & (df_coupons['age'] > 25) & (df_coupons['Y'] == 1))]['Y'].count()\n",
    "df_coupons_bar_more_1time_more25_r = df_coupons[(df_coupons['Bar'].isin(['1~3', '4~8', 'gt8']) & (df_coupons['age'] > 25) & (df_coupons['Y'] == 0))]['Y'].count()\n",
    "df_bar_more_1time_more25_ratio_a = df_coupons_bar_more_1time_more25_a / (df_coupons_bar_more_1time_more25_a + df_coupons_bar_more_1time_more25_r)*100\n",
    "print(\"------------------------------------------------------------------------------------------------------\")\n",
    "print(\"Total number of drives that are over 25 of age and visit the bars more than 1 time a month and accepted the coupons:\")\n",
    "print(df_coupons_bar_more_1time_more25_a)\n",
    "print(\"Total number of drivers that are over 25 of age and visit the bars more than 1 time a month and rejected the coupons:\")\n",
    "print(df_coupons_bar_more_1time_more25_r)\n",
    "print(\"Percentage of drivers that are over 25 of age and visit the bars more than 1 time a month and accepted the coupons:\")\n",
    "print(df_bar_more_1time_more25_ratio_a.round(2).astype(str) + '%')\n",
    "print(\"------------------------------------------------------------------------------------------------------\")\n",
    "print('')\n",
    "\n",
    "#Calculating acceptance rate between drivers who go to a bar less than once a month and are below the age of 25\n",
    "df_coupons_bar_less_1time_less25_a = df_coupons[(df_coupons['Bar'].isin(['less1', 'never']) & (df_coupons['age'] < 25) & (df_coupons['Y'] == 1))]['Y'].count()\n",
    "df_coupons_bar_less_1time_less25_r = df_coupons[(df_coupons['Bar'].isin(['less1', 'never']) & (df_coupons['age'] < 25) & (df_coupons['Y'] == 0))]['Y'].count()\n",
    "df_bar_less_1time_less25_ratio_a = df_coupons_bar_less_1time_less25_a / (df_coupons_bar_less_1time_less25_a + df_coupons_bar_less_1time_less25_r)*100\n",
    "print(\"------------------------------------------------------------------------------------------------------\")\n",
    "print(\"Total number of drivers that visit the bars less than 1 time a month and accepted the coupons:\")\n",
    "print(df_coupons_bar_less_1time_less25_a)\n",
    "print(\"Total number of drivers that visit the bars less than 1 time a month and rejected the coupons:\")\n",
    "print(df_coupons_bar_less_1time_less25_r)\n",
    "print(\"Percentage of drivers that visit the bars less than 1 time a month and accepted the coupons:\")\n",
    "print(df_bar_less_1time_less25_ratio_a.round(2).astype(str) + '%')\n",
    "print(\"------------------------------------------------------------------------------------------------------\")\n",
    "\n",
    "# First plot\n",
    "plt.subplot(1, 2, 1)\n",
    "sns.countplot(data=df_coupons[(df_coupons['Bar'].isin(['1~3', '4~8', 'gt8']) & (df_coupons['age'] > 25))], x='Bar', hue = 'Y')\n",
    "plt.title('Drivers > 3 visits/month & > 25 of age - (1-Accepted; 0-Rejected)', color = 'Red')\n",
    "\n",
    "# Second plot\n",
    "plt.subplot(1, 2, 2)\n",
    "sns.countplot(data=df_coupons[(df_coupons['Bar'].isin(['less1', 'never']) & (df_coupons['age'] < 25))], x = 'Bar', hue = 'Y')\n",
    "plt.title('Drivers < 1 visit/month & < 25 of age - (1-Accepted; 0-Rejected)', color = 'Red')"
   ]
  },
  {
   "cell_type": "markdown",
   "metadata": {
    "editable": true,
    "id": "S4RKT4PJ_qRK",
    "slideshow": {
     "slide_type": ""
    },
    "tags": []
   },
   "source": [
    "##### 5. Use the same process to compare the acceptance rate between drivers who go to bars more than once a month and had passengers that were not a kid and had occupations other than farming, fishing, or forestry.\n"
   ]
  },
  {
   "cell_type": "code",
   "execution_count": 34,
   "metadata": {
    "editable": true,
    "slideshow": {
     "slide_type": ""
    },
    "tags": []
   },
   "outputs": [
    {
     "name": "stdout",
     "output_type": "stream",
     "text": [
      "------------------------------------------------------------------------------------------------------\n",
      "Total number of drivers who go to bars more than once a month, had passengers that were not a kid, had occupations other than farming, fishing, or forestry and accepted the coupons:\n",
      "376\n",
      "Total number of drivers who go to bars more than once a month, had passengers that were not a kid, had occupations other than farming, fishing, or forestry and rejected the coupons:\n",
      "154\n",
      "Percentage of drivers who go to bars more than once a month, had passengers that were not a kid, had occupations other than farming, fishing, or forestry and accepted the coupons:\n",
      "70.94%\n",
      "------------------------------------------------------------------------------------------------------\n"
     ]
    }
   ],
   "source": [
    "#Calculating acceptance rate between drivers who go to bars more than once a month and had passengers that were not a kid and had occupations other than farming, fishing, or forestry\n",
    "df_coupons_bar_more_1time_special_a = df_coupons[(df_coupons['Bar'].isin(['1~3', '4~8', 'gt8']) & (df_coupons['passanger'].isin(['Alone', 'Friend(s)', 'Partner'])) & (~df_coupons['occupation'].isin(['Farming Fishing & Forestry'])) & (df_coupons['Y'] == 1))]['Y'].count()\n",
    "df_coupons_bar_more_1time_special_r = df_coupons[(df_coupons['Bar'].isin(['1~3', '4~8', 'gt8']) & (df_coupons['passanger'].isin(['Alone', 'Friend(s)', 'Partner'])) & (~df_coupons['occupation'].isin(['Farming Fishing & Forestry'])) & (df_coupons['Y'] == 0))]['Y'].count()\n",
    "df_bar_more_1time_special_ratio_a = df_coupons_bar_more_1time_special_a / (df_coupons_bar_more_1time_special_a + df_coupons_bar_more_1time_special_r)*100\n",
    "print(\"------------------------------------------------------------------------------------------------------\")\n",
    "print(\"Total number of drivers who go to bars more than once a month, had passengers that were not a kid, had occupations other than farming, fishing, or forestry and accepted the coupons:\")\n",
    "print(df_coupons_bar_more_1time_special_a)\n",
    "print(\"Total number of drivers who go to bars more than once a month, had passengers that were not a kid, had occupations other than farming, fishing, or forestry and rejected the coupons:\")\n",
    "print(df_coupons_bar_more_1time_special_r)\n",
    "print(\"Percentage of drivers who go to bars more than once a month, had passengers that were not a kid, had occupations other than farming, fishing, or forestry and accepted the coupons:\")\n",
    "print(df_bar_more_1time_special_ratio_a.round(2).astype(str) + '%')\n",
    "print(\"------------------------------------------------------------------------------------------------------\")"
   ]
  },
  {
   "cell_type": "markdown",
   "metadata": {
    "editable": true,
    "id": "n2LIUTil_qRK",
    "slideshow": {
     "slide_type": ""
    },
    "tags": []
   },
   "source": [
    "##### 6. Compare the acceptance rates between those drivers who:\n",
    "\n",
    "- go to bars more than once a month, had passengers that were not a kid, and were not widowed *OR*\n",
    "- go to bars more than once a month and are under the age of 30 *OR*\n",
    "- go to cheap restaurants more than 4 times a month and income is less than 50K.\n",
    "\n"
   ]
  },
  {
   "cell_type": "code",
   "execution_count": 36,
   "metadata": {
    "editable": true,
    "id": "aK_wEzx7_qRK",
    "slideshow": {
     "slide_type": ""
    },
    "tags": []
   },
   "outputs": [
    {
     "name": "stdout",
     "output_type": "stream",
     "text": [
      "------------------------------------------------------------------------------------------------------\n",
      "Total number of drivers that go to bars more than once a month, had passengers that were not a kid, and were not widowed and accepted the coupons:\n",
      "376\n",
      "Total number of drivers that go to bars more than once a month, had passengers that were not a kid, and were not widowed and rejected the coupons:\n",
      "154\n",
      "Percentage of drivers that go to bars more than once a month, had passengers that were not a kid, and were not widowed and accepted the coupons:\n",
      "70.94%\n",
      "------------------------------------------------------------------------------------------------------\n"
     ]
    }
   ],
   "source": [
    "#Calculating acceptance rate between drivers that go to bars more than once a month, had passengers that were not a kid, and were not widowed\n",
    "df_coupons_bar_more_1time_nw_a = df_coupons[(df_coupons['Bar'].isin(['1~3', '4~8', 'gt8']) & (df_coupons['passanger'].isin(['Alone', 'Friend(s)', 'Partner'])) & (~df_coupons['maritalStatus'].isin(['Widowed'])) & (df_coupons['Y'] == 1))]['Y'].count()\n",
    "df_coupons_bar_more_1time_nw_r = df_coupons[(df_coupons['Bar'].isin(['1~3', '4~8', 'gt8']) & (df_coupons['passanger'].isin(['Alone', 'Friend(s)', 'Partner'])) & (~df_coupons['maritalStatus'].isin(['Widowed'])) & (df_coupons['Y'] == 0))]['Y'].count()\n",
    "df_bar_more_1time_nw_ratio_a = df_coupons_bar_more_1time_nw_a / (df_coupons_bar_more_1time_nw_a + df_coupons_bar_more_1time_nw_r)*100\n",
    "print(\"------------------------------------------------------------------------------------------------------\")\n",
    "print(\"Total number of drivers that go to bars more than once a month, had passengers that were not a kid, and were not widowed and accepted the coupons:\")\n",
    "print(df_coupons_bar_more_1time_nw_a)\n",
    "print(\"Total number of drivers that go to bars more than once a month, had passengers that were not a kid, and were not widowed and rejected the coupons:\")\n",
    "print(df_coupons_bar_more_1time_nw_r)\n",
    "print(\"Percentage of drivers that go to bars more than once a month, had passengers that were not a kid, and were not widowed and accepted the coupons:\")\n",
    "print(df_bar_more_1time_nw_ratio_a.round(2).astype(str) + '%')\n",
    "print(\"------------------------------------------------------------------------------------------------------\")"
   ]
  },
  {
   "cell_type": "code",
   "execution_count": 37,
   "metadata": {
    "editable": true,
    "slideshow": {
     "slide_type": ""
    },
    "tags": []
   },
   "outputs": [
    {
     "name": "stdout",
     "output_type": "stream",
     "text": [
      "------------------------------------------------------------------------------------------------------\n",
      "Total number of drivers that go to bars more than once a month and are under the age of 30 and accepted the coupons:\n",
      "236\n",
      "Total number of drivers that that go to bars more than once a month and are under the age of 30 and rejected the coupons:\n",
      "92\n",
      "Percentage of drivers that that go to bars more than once a month and are under the age of 30 and accepted the coupons:\n",
      "71.95%\n",
      "------------------------------------------------------------------------------------------------------\n"
     ]
    }
   ],
   "source": [
    "#Calculating acceptance rate between drivers that go to bars more than once a month and are under the age of 30\n",
    "df_coupons_bar_more_1time_less30_a = df_coupons[(df_coupons['Bar'].isin(['1~3', '4~8', 'gt8']) & (df_coupons['age'] < 30) & (df_coupons['Y'] == 1))]['Y'].count()\n",
    "df_coupons_bar_more_1time_less30_r = df_coupons[(df_coupons['Bar'].isin(['1~3', '4~8', 'gt8']) & (df_coupons['age'] < 30) & (df_coupons['Y'] == 0))]['Y'].count()\n",
    "df_bar_more_1time_less30_ratio_a = df_coupons_bar_more_1time_less30_a / (df_coupons_bar_more_1time_less30_a + df_coupons_bar_more_1time_less30_r)*100\n",
    "print(\"------------------------------------------------------------------------------------------------------\")\n",
    "print(\"Total number of drivers that go to bars more than once a month and are under the age of 30 and accepted the coupons:\")\n",
    "print(df_coupons_bar_more_1time_less30_a)\n",
    "print(\"Total number of drivers that that go to bars more than once a month and are under the age of 30 and rejected the coupons:\")\n",
    "print(df_coupons_bar_more_1time_less30_r)\n",
    "print(\"Percentage of drivers that that go to bars more than once a month and are under the age of 30 and accepted the coupons:\")\n",
    "print(df_bar_more_1time_less30_ratio_a.round(2).astype(str) + '%')\n",
    "print(\"------------------------------------------------------------------------------------------------------\")"
   ]
  },
  {
   "cell_type": "code",
   "execution_count": 38,
   "metadata": {
    "editable": true,
    "slideshow": {
     "slide_type": ""
    },
    "tags": []
   },
   "outputs": [
    {
     "name": "stdout",
     "output_type": "stream",
     "text": [
      "------------------------------------------------------------------------------------------------------\n",
      "Total number of drivers that go to cheap restaurants more than 4 times a month and income is less than 50K and accepted the coupons:\n",
      "152\n",
      "Total number of drivers that go to cheap restaurants more than 4 times a month and income is less than 50K and rejected the coupons:\n",
      "181\n",
      "Percentage of drivers that go to cheap restaurants more than 4 times a month and income is less than 50K and accepted the coupons:\n",
      "45.65%\n",
      "------------------------------------------------------------------------------------------------------\n"
     ]
    }
   ],
   "source": [
    "#Calculating acceptance rate between drivers that go to cheap restaurants more than 4 times a month and income is less than 50K\n",
    "df_coupons_less50k_a = df_coupons[(df_coupons['RestaurantLessThan20'].isin(['4~8', 'gt8']) & (df_coupons['income'].isin(['$12500 - $24999', 'Less than $12500', '$25000 - $37499', '$37500 - $49999'])) & (df_coupons['Y'] == 1))]['Y'].count()\n",
    "df_coupons_less50k_r = df_coupons[(df_coupons['RestaurantLessThan20'].isin(['4~8', 'gt8']) & (df_coupons['income'].isin(['$12500 - $24999', 'Less than $12500', '$25000 - $37499', '$37500 - $49999'])) & (df_coupons['Y'] == 0))]['Y'].count()\n",
    "df_less50k_ratio_a = df_coupons_less50k_a / (df_coupons_less50k_a + df_coupons_less50k_r)*100\n",
    "print(\"------------------------------------------------------------------------------------------------------\")\n",
    "print(\"Total number of drivers that go to cheap restaurants more than 4 times a month and income is less than 50K and accepted the coupons:\")\n",
    "print(df_coupons_less50k_a)\n",
    "print(\"Total number of drivers that go to cheap restaurants more than 4 times a month and income is less than 50K and rejected the coupons:\")\n",
    "print(df_coupons_less50k_r)\n",
    "print(\"Percentage of drivers that go to cheap restaurants more than 4 times a month and income is less than 50K and accepted the coupons:\")\n",
    "print(df_less50k_ratio_a.round(2).astype(str) + '%')\n",
    "print(\"------------------------------------------------------------------------------------------------------\")"
   ]
  },
  {
   "cell_type": "code",
   "execution_count": 282,
   "metadata": {
    "editable": true,
    "slideshow": {
     "slide_type": ""
    },
    "tags": []
   },
   "outputs": [
    {
     "data": {
      "image/png": "[encoded data removed]",
      "text/plain": [
       "<Figure size 2500x500 with 3 Axes>"
      ]
     },
     "metadata": {},
     "output_type": "display_data"
    }
   ],
   "source": [
    "#ploting the charts of the three cases for comparison\n",
    "\n",
    "plt.rcParams.update({\n",
    "    'figure.figsize': (25, 5),\n",
    "    'axes.titlesize': 12,\n",
    "    'axes.labelsize': 10,\n",
    "    'xtick.labelsize': 8,\n",
    "    'ytick.labelsize': 8\n",
    "});\n",
    "\n",
    "# First plot\n",
    "plt.subplot(1, 3, 1)\n",
    "sns.countplot(data=df_coupons[(df_coupons['Bar'].isin(['1~3', '4~8', 'gt8']) & (df_coupons['passanger'].isin(['Alone', 'Friend(s)', 'Partner'])) & (~df_coupons['maritalStatus'].isin(['Widowed'])))], x='Bar', hue = 'Y')\n",
    "plt.title('Drivers > 1 visit/month + passengers(non-kid) & non-widowed (1-Accepted; 0-Rejected)', color = 'Red')\n",
    "\n",
    "# Second plot\n",
    "plt.subplot(1, 3, 2)\n",
    "sns.countplot(data=df_coupons[(df_coupons['Bar'].isin(['1~3', '4~8', 'gt8']) & (df_coupons['age'] < 30))], x = 'Bar', hue = 'Y')\n",
    "plt.title('Drivers > 1 visit/month & under 30 (1-Accepted; 0-Rejected)', color = 'Red')\n",
    "\n",
    "# Third plot\n",
    "plt.subplot(1, 3, 3)\n",
    "sns.countplot(data=df_coupons[(df_coupons['RestaurantLessThan20'].isin(['4~8', 'gt8']) & (df_coupons['income'].isin(['$12500 - $24999', 'Less than $12500', '$25000 - $37499', '$37500 - $49999'])))], x = 'RestaurantLessThan20', hue = 'Y')\n",
    "plt.title('Drivers > 4 visits/month & income < 50K (1-Accepted; 0-Rejected)', color = 'Red');"
   ]
  },
  {
   "cell_type": "markdown",
   "metadata": {
    "editable": true,
    "id": "v3fL3QkO_qRK",
    "slideshow": {
     "slide_type": ""
    },
    "tags": []
   },
   "source": [
    "##### 7.  Based on these observations, what do you hypothesize about drivers who accepted the bar coupons?"
   ]
  },
  {
   "cell_type": "code",
   "execution_count": 285,
   "metadata": {
    "editable": true,
    "slideshow": {
     "slide_type": ""
    },
    "tags": []
   },
   "outputs": [
    {
     "data": {
      "text/html": [
       "<div>\n",
       "<style scoped>\n",
       "    .dataframe tbody tr th:only-of-type {\n",
       "        vertical-align: middle;\n",
       "    }\n",
       "\n",
       "    .dataframe tbody tr th {\n",
       "        vertical-align: top;\n",
       "    }\n",
       "\n",
       "    .dataframe thead th {\n",
       "        text-align: right;\n",
       "    }\n",
       "</style>\n",
       "<table border=\"1\" class=\"dataframe\">\n",
       "  <thead>\n",
       "    <tr style=\"text-align: right;\">\n",
       "      <th></th>\n",
       "      <th>destination</th>\n",
       "      <th>passanger</th>\n",
       "      <th>weather</th>\n",
       "      <th>temperature</th>\n",
       "      <th>time</th>\n",
       "      <th>coupon</th>\n",
       "      <th>expiration</th>\n",
       "      <th>gender</th>\n",
       "      <th>age</th>\n",
       "      <th>maritalStatus</th>\n",
       "      <th>...</th>\n",
       "      <th>CoffeeHouse</th>\n",
       "      <th>CarryAway</th>\n",
       "      <th>RestaurantLessThan20</th>\n",
       "      <th>Restaurant20To50</th>\n",
       "      <th>toCoupon_GEQ5min</th>\n",
       "      <th>toCoupon_GEQ15min</th>\n",
       "      <th>toCoupon_GEQ25min</th>\n",
       "      <th>direction_same</th>\n",
       "      <th>direction_opp</th>\n",
       "      <th>Y</th>\n",
       "    </tr>\n",
       "  </thead>\n",
       "  <tbody>\n",
       "    <tr>\n",
       "      <th>0</th>\n",
       "      <td>No Urgent Place</td>\n",
       "      <td>0</td>\n",
       "      <td>Sunny</td>\n",
       "      <td>55</td>\n",
       "      <td>2PM</td>\n",
       "      <td>Restaurant(&lt;20)</td>\n",
       "      <td>1d</td>\n",
       "      <td>Male</td>\n",
       "      <td>21</td>\n",
       "      <td>1</td>\n",
       "      <td>...</td>\n",
       "      <td>less1</td>\n",
       "      <td>4~8</td>\n",
       "      <td>4~8</td>\n",
       "      <td>less1</td>\n",
       "      <td>1</td>\n",
       "      <td>0</td>\n",
       "      <td>0</td>\n",
       "      <td>0</td>\n",
       "      <td>1</td>\n",
       "      <td>1</td>\n",
       "    </tr>\n",
       "    <tr>\n",
       "      <th>1</th>\n",
       "      <td>No Urgent Place</td>\n",
       "      <td>1</td>\n",
       "      <td>Sunny</td>\n",
       "      <td>80</td>\n",
       "      <td>10AM</td>\n",
       "      <td>Coffee House</td>\n",
       "      <td>2h</td>\n",
       "      <td>Male</td>\n",
       "      <td>21</td>\n",
       "      <td>1</td>\n",
       "      <td>...</td>\n",
       "      <td>less1</td>\n",
       "      <td>4~8</td>\n",
       "      <td>4~8</td>\n",
       "      <td>less1</td>\n",
       "      <td>1</td>\n",
       "      <td>0</td>\n",
       "      <td>0</td>\n",
       "      <td>0</td>\n",
       "      <td>1</td>\n",
       "      <td>0</td>\n",
       "    </tr>\n",
       "    <tr>\n",
       "      <th>2</th>\n",
       "      <td>No Urgent Place</td>\n",
       "      <td>1</td>\n",
       "      <td>Sunny</td>\n",
       "      <td>80</td>\n",
       "      <td>10AM</td>\n",
       "      <td>Bar</td>\n",
       "      <td>1d</td>\n",
       "      <td>Male</td>\n",
       "      <td>21</td>\n",
       "      <td>1</td>\n",
       "      <td>...</td>\n",
       "      <td>less1</td>\n",
       "      <td>4~8</td>\n",
       "      <td>4~8</td>\n",
       "      <td>less1</td>\n",
       "      <td>1</td>\n",
       "      <td>0</td>\n",
       "      <td>0</td>\n",
       "      <td>0</td>\n",
       "      <td>1</td>\n",
       "      <td>1</td>\n",
       "    </tr>\n",
       "    <tr>\n",
       "      <th>3</th>\n",
       "      <td>No Urgent Place</td>\n",
       "      <td>1</td>\n",
       "      <td>Sunny</td>\n",
       "      <td>80</td>\n",
       "      <td>10AM</td>\n",
       "      <td>Carry out &amp; Take away</td>\n",
       "      <td>2h</td>\n",
       "      <td>Male</td>\n",
       "      <td>21</td>\n",
       "      <td>1</td>\n",
       "      <td>...</td>\n",
       "      <td>less1</td>\n",
       "      <td>4~8</td>\n",
       "      <td>4~8</td>\n",
       "      <td>less1</td>\n",
       "      <td>1</td>\n",
       "      <td>1</td>\n",
       "      <td>0</td>\n",
       "      <td>0</td>\n",
       "      <td>1</td>\n",
       "      <td>0</td>\n",
       "    </tr>\n",
       "    <tr>\n",
       "      <th>4</th>\n",
       "      <td>No Urgent Place</td>\n",
       "      <td>1</td>\n",
       "      <td>Sunny</td>\n",
       "      <td>80</td>\n",
       "      <td>2PM</td>\n",
       "      <td>Coffee House</td>\n",
       "      <td>1d</td>\n",
       "      <td>Male</td>\n",
       "      <td>21</td>\n",
       "      <td>1</td>\n",
       "      <td>...</td>\n",
       "      <td>less1</td>\n",
       "      <td>4~8</td>\n",
       "      <td>4~8</td>\n",
       "      <td>less1</td>\n",
       "      <td>1</td>\n",
       "      <td>0</td>\n",
       "      <td>0</td>\n",
       "      <td>0</td>\n",
       "      <td>1</td>\n",
       "      <td>0</td>\n",
       "    </tr>\n",
       "  </tbody>\n",
       "</table>\n",
       "<p>5 rows × 25 columns</p>\n",
       "</div>"
      ],
      "text/plain": [
       "       destination  passanger weather  temperature  time  \\\n",
       "0  No Urgent Place          0   Sunny           55   2PM   \n",
       "1  No Urgent Place          1   Sunny           80  10AM   \n",
       "2  No Urgent Place          1   Sunny           80  10AM   \n",
       "3  No Urgent Place          1   Sunny           80  10AM   \n",
       "4  No Urgent Place          1   Sunny           80   2PM   \n",
       "\n",
       "                  coupon expiration gender  age  maritalStatus  ...  \\\n",
       "0        Restaurant(<20)         1d   Male   21              1  ...   \n",
       "1           Coffee House         2h   Male   21              1  ...   \n",
       "2                    Bar         1d   Male   21              1  ...   \n",
       "3  Carry out & Take away         2h   Male   21              1  ...   \n",
       "4           Coffee House         1d   Male   21              1  ...   \n",
       "\n",
       "   CoffeeHouse CarryAway RestaurantLessThan20 Restaurant20To50  \\\n",
       "0        less1       4~8                  4~8            less1   \n",
       "1        less1       4~8                  4~8            less1   \n",
       "2        less1       4~8                  4~8            less1   \n",
       "3        less1       4~8                  4~8            less1   \n",
       "4        less1       4~8                  4~8            less1   \n",
       "\n",
       "   toCoupon_GEQ5min toCoupon_GEQ15min toCoupon_GEQ25min direction_same  \\\n",
       "0                 1                 0                 0              0   \n",
       "1                 1                 0                 0              0   \n",
       "2                 1                 0                 0              0   \n",
       "3                 1                 1                 0              0   \n",
       "4                 1                 0                 0              0   \n",
       "\n",
       "  direction_opp  Y  \n",
       "0             1  1  \n",
       "1             1  0  \n",
       "2             1  1  \n",
       "3             1  0  \n",
       "4             1  0  \n",
       "\n",
       "[5 rows x 25 columns]"
      ]
     },
     "execution_count": 285,
     "metadata": {},
     "output_type": "execute_result"
    }
   ],
   "source": [
    "#I define a new dataframe and convert 'Bar', 'passanger' and 'maritalstatus' categories to numerical values for some further correlation analysis\n",
    "dfc = data_clean\n",
    "\n",
    "# mapped on pupose less than 1 visit per month to value '1' and more than 1 visit per month to value '2' to be able to conduct the analysis\n",
    "dfc['Bar'] = dfc['Bar'].replace({'never': 1, 'less1': 1, '1~3': 2, '4~8': 2, 'gt8': 2 }).infer_objects(copy=False).astype(int)\n",
    "dfc['passanger'] = dfc['passanger'].replace({'Alone': 0, 'Friend(s)': 1, 'Partner': 2, 'Kid(s)': 3}).infer_objects(copy=False).astype(int)\n",
    "dfc['maritalStatus'] = dfc['maritalStatus'].replace({'Married partner': 0, 'Single': 1, 'Unmarried partner': 2, 'Divorced': 3, 'Widowed': 4}).infer_objects(copy=False).astype(int)\n",
    "dfc.head()"
   ]
  },
  {
   "cell_type": "code",
   "execution_count": 287,
   "metadata": {
    "editable": true,
    "slideshow": {
     "slide_type": ""
    },
    "tags": []
   },
   "outputs": [
    {
     "name": "stdout",
     "output_type": "stream",
     "text": [
      "------------------------------------------------------------------------------------------------------\n",
      "Some correlation(0.36) has been detected between 'Bar' values and 'Y' category:\n",
      "------------------------------------------------------------------------------------------------------\n"
     ]
    },
    {
     "data": {
      "image/png": "[encoded data removed]",
      "text/plain": [
       "<Figure size 1000x500 with 2 Axes>"
      ]
     },
     "metadata": {},
     "output_type": "display_data"
    }
   ],
   "source": [
    "#Further correlation analysis using heatmap - create a new dataframe only with categories under analysis and for cupon with values 'Bar'\n",
    "df_corr = dfc.query(\"coupon == 'Bar'\")[['Bar','age','passanger','maritalStatus', 'Y']]\n",
    "df_corr_a = df_corr.corr(numeric_only=True)\n",
    "plt.rcParams.update({\n",
    "    'figure.figsize': (10, 5),\n",
    "    'axes.titlesize': 12,\n",
    "    'axes.labelsize': 10,\n",
    "    'xtick.labelsize': 8,\n",
    "    'ytick.labelsize': 8\n",
    "})\n",
    "sns.heatmap(df_corr_a, annot=True, cmap='coolwarm');\n",
    "plt.title(\"Correlation matrix for the analyzed categories\", color = 'Red')\n",
    "\n",
    "print(\"------------------------------------------------------------------------------------------------------\")\n",
    "print(\"Some correlation(0.36) has been detected between 'Bar' values and 'Y' category:\")\n",
    "print(\"------------------------------------------------------------------------------------------------------\")"
   ]
  },
  {
   "cell_type": "code",
   "execution_count": 300,
   "metadata": {
    "editable": true,
    "slideshow": {
     "slide_type": ""
    },
    "tags": []
   },
   "outputs": [
    {
     "name": "stdout",
     "output_type": "stream",
     "text": [
      "------------------------------------------------------------------------------------------------------\n",
      "For drivers with more than 1 monthly bar visits, the acceptance rate si much higher than for the ones with less bar monthly visits\n",
      "------------------------------------------------------------------------------------------------------\n"
     ]
    },
    {
     "data": {
      "image/png": "[encoded data removed]",
      "text/plain": [
       "<Figure size 1200x500 with 1 Axes>"
      ]
     },
     "metadata": {},
     "output_type": "display_data"
    }
   ],
   "source": [
    "#Create a new dataframe that keeps only 'cupon' category with values Bar\n",
    "dfcf = dfc.query(\"coupon == 'Bar'\")\n",
    "plt.xlabel('Number of visits to a bar in a month (1=Less than once, 2=More than once)')\n",
    "plt.ylabel('Number of drivers that received a Bar coupon')\n",
    "\n",
    "plt.title(\"Distribution of coupon acceptance by number of monthly bar visits - (1-Accepted; 0-Rejected)\", color = 'Red');\n",
    "sns.countplot(dfcf, x='Bar', hue = 'Y');\n",
    "\n",
    "print(\"------------------------------------------------------------------------------------------------------\")\n",
    "print(\"For drivers with more than 1 monthly bar visits, the acceptance rate si much higher than for the ones with less bar monthly visits\")\n",
    "print(\"------------------------------------------------------------------------------------------------------\")"
   ]
  },
  {
   "cell_type": "markdown",
   "metadata": {
    "editable": true,
    "id": "Y48naDFh_qRL",
    "slideshow": {
     "slide_type": ""
    },
    "tags": []
   },
   "source": [
    "**Considering the analysis above and the results, I conclude the following:**\n",
    "\n",
    "* Drivers that are visiting the bars more than 1 time a month and are over the age of 25 have an acceptance rate close to 70%. There is a strong corelation between number ob monthly visits to the bars and the cupon acceptance rate\n",
    "* If the drivers are also accompanied by other persons (excluding kids) then the acceptance rate can be slighly improved\n",
    "* Age is not a relevant factor in cupon acceptance rate\n",
    "* Income level also shows an inverse correlation with cupon acceptance rate. However, further anylizis are need to confirm the initial finding"
   ]
  },
  {
   "cell_type": "markdown",
   "metadata": {
    "editable": true,
    "id": "r4Hu1zOb_qRL",
    "slideshow": {
     "slide_type": ""
    },
    "tags": []
   },
   "source": [
    "### Independent Investigation\n",
    "\n",
    "Using the bar coupon example as motivation, you are to explore one of the other coupon groups and try to determine the characteristics of passengers who accept the coupons.  "
   ]
  },
  {
   "cell_type": "code",
   "execution_count": null,
   "metadata": {
    "editable": true,
    "id": "0c71cQhu_qRL",
    "slideshow": {
     "slide_type": ""
    },
    "tags": []
   },
   "outputs": [],
   "source": []
  }
 ],
 "metadata": {
  "colab": {
   "provenance": []
  },
  "kernelspec": {
   "display_name": "Python [conda env:base] *",
   "language": "python",
   "name": "conda-base-py"
  },
  "language_info": {
   "codemirror_mode": {
    "name": "ipython",
    "version": 3
   },
   "file_extension": ".py",
   "mimetype": "text/x-python",
   "name": "python",
   "nbconvert_exporter": "python",
   "pygments_lexer": "ipython3",
   "version": "3.12.7"
  }
 },
 "nbformat": 4,
 "nbformat_minor": 4
}
